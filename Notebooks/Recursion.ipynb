{
 "cells": [
  {
   "cell_type": "markdown",
   "metadata": {},
   "source": [
    "# Recursion"
   ]
  },
  {
   "cell_type": "markdown",
   "metadata": {},
   "source": [
    "<div class=\"alert alert-info\">\n",
    "    <b>Recursion</b> is a method of solving problems that involves breaking down into smaller subproblems until you get to a small enough problem that it can be solved trivially. Usually recursion involves a function calling itelf. \n",
    "</div>"
   ]
  },
  {
   "cell_type": "markdown",
   "metadata": {},
   "source": [
    "## The Three Laws of Recursion\n",
    "<div class=\"alert alert-success\">\n",
    "<li> A recursive algorithm must have a <b>base case.</b>\n",
    "<li> A recursive algorithm must change its state and move toward the base case.\n",
    "<li> A recursive algotithm must call itself, recursively.\n",
    "</div>"
   ]
  },
  {
   "cell_type": "markdown",
   "metadata": {},
   "source": [
    "* **Base case**: case so simple that they can be solved directly.\n",
    "(Usually the data that represents our problem gets smaller in some way.)\n",
    "* **Recursive case**: more complex and make use of recursion to: \n",
    "    * Break the problem to smaller subproblems\n",
    "    * Combine into a solution to the larger problem."
   ]
  },
  {
   "cell_type": "markdown",
   "metadata": {},
   "source": [
    "## EXAMPLES"
   ]
  },
  {
   "cell_type": "code",
   "execution_count": 2,
   "metadata": {},
   "outputs": [
    {
     "name": "stdout",
     "output_type": "stream",
     "text": [
      "6\n"
     ]
    }
   ],
   "source": [
    "def sumlist(l):\n",
    "    if len(l) == 1:\n",
    "        return l[0]  # base case\n",
    "    else:\n",
    "        return l[0] + sumlist(l[1:])\n",
    "\n",
    "print(sumlist([1,2,3]))"
   ]
  },
  {
   "cell_type": "code",
   "execution_count": 5,
   "metadata": {},
   "outputs": [
    {
     "name": "stdout",
     "output_type": "stream",
     "text": [
      "120\n"
     ]
    }
   ],
   "source": [
    "def factorial(num): # O(n)\n",
    "    if num <= 0: # base case\n",
    "        return 1\n",
    "    else:\n",
    "        return num * factorial(num-1)\n",
    "print(factorial(5))"
   ]
  },
  {
   "cell_type": "code",
   "execution_count": 10,
   "metadata": {},
   "outputs": [
    {
     "name": "stdout",
     "output_type": "stream",
     "text": [
      "25\n"
     ]
    }
   ],
   "source": [
    "def multiplyRec(x,y):\n",
    "    if y == 1:\n",
    "        return x\n",
    "    else:\n",
    "        return x + multiplyRec(x,y-1)\n",
    "print(multiplyRec(5,5))"
   ]
  },
  {
   "cell_type": "markdown",
   "metadata": {},
   "source": [
    "### Binary Search"
   ]
  },
  {
   "cell_type": "code",
   "execution_count": null,
   "metadata": {},
   "outputs": [],
   "source": [
    "# input a sorted array of integers and a number\n",
    "def binary_search(data, x):\n",
    "    if len(data) == 0:\n",
    "        return False\n",
    "    mid = len(data)//2\n",
    "    if x == data[mid]: # base case\n",
    "        return True\n",
    "    elif x < data[mid]: # recursive case\n",
    "        #search at the first half of the array\n",
    "        return binary_search(data[0:mid], x)\n",
    "    else: # x > data[mid], recursive case\n",
    "        #search at the second half of the array\n",
    "        return binary_search(data`mid+1:,x)\n"
   ]
  },
  {
   "cell_type": "markdown",
   "metadata": {},
   "source": [
    "### Converting an Integer to a String in Any Base"
   ]
  },
  {
   "cell_type": "code",
   "execution_count": 14,
   "metadata": {},
   "outputs": [
    {
     "name": "stdout",
     "output_type": "stream",
     "text": [
      "2A\n",
      "101010\n"
     ]
    }
   ],
   "source": [
    "def toStr(n, base):\n",
    "    convertString = \"0123456789ABSDEF\"\n",
    "    if n < base:\n",
    "        return convertString[n]\n",
    "    else:\n",
    "        return toStr(n//base, base) + convertString[n%base]\n",
    "\n",
    "print(toStr(42, 16))\n",
    "print(toStr(42, 2))"
   ]
  },
  {
   "cell_type": "code",
   "execution_count": null,
   "metadata": {},
   "outputs": [],
   "source": []
  },
  {
   "cell_type": "markdown",
   "metadata": {},
   "source": [
    "https://runestone.academy/runestone/books/published/pythonds/Recursion/DynamicProgramming.html"
   ]
  }
 ],
 "metadata": {
  "kernelspec": {
   "display_name": "Python 3",
   "language": "python",
   "name": "python3"
  },
  "language_info": {
   "codemirror_mode": {
    "name": "ipython",
    "version": 3
   },
   "file_extension": ".py",
   "mimetype": "text/x-python",
   "name": "python",
   "nbconvert_exporter": "python",
   "pygments_lexer": "ipython3",
   "version": "3.7.4"
  }
 },
 "nbformat": 4,
 "nbformat_minor": 2
}
