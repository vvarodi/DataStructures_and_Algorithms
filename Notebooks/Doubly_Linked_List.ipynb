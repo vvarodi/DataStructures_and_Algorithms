{
 "cells": [
  {
   "cell_type": "markdown",
   "metadata": {},
   "source": [
    "# Doubly Linked List"
   ]
  },
  {
   "cell_type": "markdown",
   "metadata": {},
   "source": [
    "<div class=\"alert alert-warning\">\n",
    "    <li><b>Head:</b> The first node in a linked list (prev pointing to None)\n",
    "        <li><b>Tail:</b> The last node in a linked list (next pointing to None)\n",
    "            <li><b>Pointer Next:</b> reference to the next node\n",
    "                <li><b>Pointer prev:</b> reference to the previous node (previous node of head is None)\n",
    "                <li><b>Node:</b> an object containing data and pointer(s)\n",
    "</div>"
   ]
  },
  {
   "cell_type": "markdown",
   "metadata": {},
   "source": [
    "> It allows visiting the list from left to right, and also in reverse."
   ]
  },
  {
   "cell_type": "code",
   "execution_count": 1,
   "metadata": {},
   "outputs": [],
   "source": [
    "class Node:\n",
    "    def __init__(self, data, next=None, prev=None):\n",
    "        self.data = data\n",
    "        self.next = next\n",
    "        self.prev = prev"
   ]
  },
  {
   "cell_type": "code",
   "execution_count": 10,
   "metadata": {},
   "outputs": [],
   "source": [
    "class DoublyLinkedList:\n",
    "    def __init__(self):\n",
    "        self.head = None\n",
    "        self.tail = None\n",
    "        self.size = 0\n",
    "        \n",
    "    def isEmpty(self):\n",
    "        return self.head is None\n",
    "    \n",
    "    def addFirst(self, data):\n",
    "        #create the new node\n",
    "        new_node = Node(data)\n",
    "        #the new node must point to the current head \n",
    "        if self.isEmpty():\n",
    "            self.tail = new_node  #self.head=new_node ? also worked but be careful tail is None...\n",
    "        else:\n",
    "            new_node.next = self.head\n",
    "            self.head.prev = new_node\n",
    "        #update the reference of head to point the new node\n",
    "        self.head = new_node\n",
    "        self.size += 1\n",
    "        \n",
    "    def addLast(self, data):\n",
    "        new_node = Node(data)\n",
    "        if self.size == 0:\n",
    "            self.head = new_node\n",
    "        else:\n",
    "            new_node.prev = self.tail\n",
    "            self.tail.next = new_node\n",
    "            \n",
    "        self.tail = new_node\n",
    "        self.size += 1\n",
    "    \n",
    "    def removeFirst(self):\n",
    "        pass\n",
    "    def removeLast(self):\n",
    "        pass\n",
    "    def insertAt(self, index, data):\n",
    "        pass\n",
    "    def getAt(self, index):\n",
    "        pass\n",
    "    def removeAt(self, index):\n",
    "        pass\n",
    "    def contains(self, data):\n",
    "        pass\n",
    "        \n",
    "        \n",
    "        \n",
    "    def __str__(self):\n",
    "        temp = self.head\n",
    "        \n",
    "        res = ''\n",
    "        while temp is not None:\n",
    "            res = res + ',' + str(temp.data)\n",
    "            temp = temp.next\n",
    "        return res[1:]\n",
    "        \n",
    "        "
   ]
  },
  {
   "cell_type": "code",
   "execution_count": 11,
   "metadata": {},
   "outputs": [
    {
     "name": "stdout",
     "output_type": "stream",
     "text": [
      "0,5,9,1,2,3,4\n"
     ]
    }
   ],
   "source": [
    "dll = DoublyLinkedList()\n",
    "dll.addFirst(9)\n",
    "dll.addLast(1)\n",
    "dll.addLast(2)\n",
    "dll.addLast(3)\n",
    "dll.addLast(4)\n",
    "dll.addFirst(5)\n",
    "dll.addFirst(0)\n",
    "print(dll)"
   ]
  },
  {
   "cell_type": "code",
   "execution_count": null,
   "metadata": {},
   "outputs": [],
   "source": []
  }
 ],
 "metadata": {
  "kernelspec": {
   "display_name": "Python 3",
   "language": "python",
   "name": "python3"
  },
  "language_info": {
   "codemirror_mode": {
    "name": "ipython",
    "version": 3
   },
   "file_extension": ".py",
   "mimetype": "text/x-python",
   "name": "python",
   "nbconvert_exporter": "python",
   "pygments_lexer": "ipython3",
   "version": "3.7.4"
  }
 },
 "nbformat": 4,
 "nbformat_minor": 2
}
