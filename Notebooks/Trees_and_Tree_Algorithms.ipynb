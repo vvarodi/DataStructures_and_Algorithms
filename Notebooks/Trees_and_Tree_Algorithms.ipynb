{
 "cells": [
  {
   "cell_type": "markdown",
   "metadata": {},
   "source": [
    "# Trees and Tree Algorithms\n",
    "<div class=\"alert alert-info\">\n",
    "    <li><b>Root:</b> the only node without a father.\n",
    "    <li><b>Internal Node:</b> at leats one child.\n",
    "    <li><b>Leaf Node (External):</b> without children.\n",
    "        <li><b>Siblings:</b> nodes with the same parent.\n",
    "           <li><b>Subtree:</b> tree formed by a node and its descendants.\n",
    "               <li><b>Level (depth):</b> the level of a node n is the number of edges on the path from the root node to n. By definition, the level of the root is zero.\n",
    "                   <li><b>Height:</b> is the longest path from a node x to any leaf.\n",
    "                       <li><b>Heigth of a tree:</b> heigth of its root. (Heigth of an empty tree is -1)\n",
    "                           <li><b>Degree of a node:</b> number of its children.\n",
    "                               <li><b>Degree of a tree:</b> the greatest degree for all its nodes.\n",
    "                       \n",
    "                       n nodes -> n - 1 links (edges)\n",
    "</div>"
   ]
  },
  {
   "cell_type": "markdown",
   "metadata": {},
   "source": [
    "<div class=\"alert alert-success\">\n",
    "A tree T consists of a set of nodes and set of edges that connect pairs of nodes. A tree has the following properties:\n",
    "    <li>It only has one root. The root has no parent.\n",
    "     <li> Each node of T (no root) has a unique parent\n",
    "         <li>A unique path traverses from the root to each node.\n",
    "             <li>If each node in the tree has a maximum of two children, we say that the tree is a <b>binary tree</b>.\n",
    "</div>"
   ]
  },
  {
   "cell_type": "code",
   "execution_count": 1,
   "metadata": {},
   "outputs": [],
   "source": [
    "class Node:\n",
    "    def __init__(self, elem=None):\n",
    "        self.elem = elem\n",
    "        self.leftChild = None\n",
    "        self.rightChild = None\n",
    "        self.parent = None"
   ]
  },
  {
   "cell_type": "code",
   "execution_count": 2,
   "metadata": {},
   "outputs": [],
   "source": [
    "import queue\n",
    "\n",
    "class BinaryTree:\n",
    "    def __init__(self):\n",
    "        self.root = None\n",
    "    \n",
    "    def size(self):\n",
    "        \"\"\"Returns the number of nodes\"\"\"\n",
    "        return self._size(self.root)\n",
    "    \n",
    "    def _size(self, currentNode):\n",
    "        if currentNode==None:\n",
    "            return 0\n",
    "        return 1 + self._size(currentNode.leftChild) + self._size(currentNode.rightChild)\n",
    "    \n",
    "    def height(self):\n",
    "        \"\"\"Returns the height of the tree\"\"\"\n",
    "        return self._height(self.root)\n",
    "    \n",
    "    def _height(self, currentNode):\n",
    "        if currentNode == None:\n",
    "            return -1\n",
    "        return 1+max(self._height(currentNode.leftChild), self._height(currentNode.rightChild))\n",
    "    \n",
    "    def depth(self, currentNode):\n",
    "        \"\"\"Returns the depth of a node\"\"\"\n",
    "        if currentNode == None:\n",
    "            return 0\n",
    "        return 1 + self.depth(currentNode.parent)\n",
    "    \n",
    "    def preorder(self):\n",
    "        print('Pre-Order Traversal')\n",
    "        self._preorder(self.root)\n",
    "        print()\n",
    "    def _preorder(self, currentNode):\n",
    "        if currentNode != None:\n",
    "            print(currentNode.elem, end='')\n",
    "            self._preorder(currentNode.leftChild)\n",
    "            self._preorder(currentNode.rightChild)\n",
    "    \n",
    "    def postorder(self):\n",
    "        print('Post-Order Traversal')\n",
    "        self._postorder(self.root)\n",
    "        print()\n",
    "    def _postorder(self, currentNode):\n",
    "        if currentNode != None:\n",
    "            self._postorder(currentNode.leftChild)\n",
    "            self._postorder(currentNode.rightChild)\n",
    "            print(currentNode.elem, end='')\n",
    "    \n",
    "    def inorder(self):\n",
    "        print('In-Order Traversal')\n",
    "        self._inorder(self.root)\n",
    "        print()\n",
    "    def _inorder(self, currentNode):\n",
    "        if currentNode != None:\n",
    "            self._inorder(currentNode.leftChild)\n",
    "            print(currentNode.elem, end='')\n",
    "            self._inorder(currentNode.rightChild)\n",
    "    \n",
    "    def levelorder(self):\n",
    "        if self.root==None:\n",
    "            print('tree is empty')\n",
    "            return\n",
    "        q=queue.Queue()\n",
    "        q.put(self.root) #enqueue: we save the root\n",
    "        while q.empty()==False:\n",
    "            current=q.get() #dequeue\n",
    "            print(current.elem, end ='')\n",
    "            if current.leftChild!=None:\n",
    "                q.put(current.leftChild)\n",
    "            if current.rightChild!=None:\n",
    "                q.put(current.rightChild)\n",
    "        \n",
    "        \n",
    "    def draw(self):\n",
    "        \"\"\"Fucntion to draw a tree\"\"\"\n",
    "        self._draw('',self.root,False)\n",
    "        print()\n",
    "    def _draw(self,prefix, node, isLeft):\n",
    "        if node !=None:\n",
    "            self._draw(prefix + \"     \", node.rightChild, False)\n",
    "            print(prefix + (\"|-- \") + str(node.elem))\n",
    "            self._draw(prefix + \"     \", node.leftChild, True)\n",
    "    \n",
    "    \"\"\"\n",
    "    def preorder(self, start, traversal):\n",
    "        # root, left, right\n",
    "        if start:\n",
    "            traversal += (str(start.elem)+'-')\n",
    "            traversal = self.preorder(start.leftChild, traversal)\n",
    "            traversal = self.preorder(start.rightChild, traversal)\n",
    "        return traversal\n",
    "    def print_tree(self, traversal_type):\n",
    "        if traversal_type == \"preorder\":\n",
    "            return self.preorder(tree.root, \"\")    \n",
    "    \"\"\""
   ]
  },
  {
   "cell_type": "code",
   "execution_count": 3,
   "metadata": {},
   "outputs": [
    {
     "name": "stdout",
     "output_type": "stream",
     "text": [
      "1\n",
      "2\n",
      "3\n",
      "Size: 3\n"
     ]
    }
   ],
   "source": [
    "# Manually tree\n",
    "n1 = Node(1)\n",
    "tree = BinaryTree()\n",
    "tree.root = n1\n",
    "print(tree.root.elem)\n",
    "tree.root.leftChild = Node(2)\n",
    "print(tree.root.leftChild.elem)\n",
    "tree.root.rightChild= Node(3)\n",
    "print(tree.root.rightChild.elem)\n",
    "print('Size:',tree.size())\n",
    "#   1\n",
    "# /   \\\n",
    "#2     3\n",
    "#tree.print_tree(\"preorder\")"
   ]
  },
  {
   "cell_type": "code",
   "execution_count": 4,
   "metadata": {
    "scrolled": true
   },
   "outputs": [
    {
     "name": "stdout",
     "output_type": "stream",
     "text": [
      "     |-- 3\n",
      "|-- 1\n",
      "     |-- 2\n",
      "\n"
     ]
    }
   ],
   "source": [
    "tree.draw()"
   ]
  },
  {
   "cell_type": "code",
   "execution_count": 5,
   "metadata": {},
   "outputs": [
    {
     "name": "stdout",
     "output_type": "stream",
     "text": [
      "In-Order Traversal\n",
      "213\n"
     ]
    }
   ],
   "source": [
    "tree.inorder()"
   ]
  },
  {
   "cell_type": "code",
   "execution_count": 6,
   "metadata": {},
   "outputs": [
    {
     "name": "stdout",
     "output_type": "stream",
     "text": [
      "Pre-Order Traversal\n",
      "123\n"
     ]
    }
   ],
   "source": [
    "tree.preorder()"
   ]
  },
  {
   "cell_type": "code",
   "execution_count": 7,
   "metadata": {},
   "outputs": [
    {
     "name": "stdout",
     "output_type": "stream",
     "text": [
      "Post-Order Traversal\n",
      "231\n"
     ]
    }
   ],
   "source": [
    "tree.postorder()"
   ]
  },
  {
   "cell_type": "code",
   "execution_count": 8,
   "metadata": {},
   "outputs": [
    {
     "name": "stdout",
     "output_type": "stream",
     "text": [
      "123"
     ]
    }
   ],
   "source": [
    "tree.levelorder()\n"
   ]
  },
  {
   "cell_type": "code",
   "execution_count": null,
   "metadata": {},
   "outputs": [],
   "source": []
  },
  {
   "cell_type": "code",
   "execution_count": null,
   "metadata": {},
   "outputs": [],
   "source": []
  }
 ],
 "metadata": {
  "kernelspec": {
   "display_name": "Python 3",
   "language": "python",
   "name": "python3"
  },
  "language_info": {
   "codemirror_mode": {
    "name": "ipython",
    "version": 3
   },
   "file_extension": ".py",
   "mimetype": "text/x-python",
   "name": "python",
   "nbconvert_exporter": "python",
   "pygments_lexer": "ipython3",
   "version": "3.7.4"
  }
 },
 "nbformat": 4,
 "nbformat_minor": 2
}
