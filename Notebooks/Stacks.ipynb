{
 "cells": [
  {
   "cell_type": "markdown",
   "metadata": {},
   "source": [
    "# Stacks"
   ]
  },
  {
   "cell_type": "markdown",
   "metadata": {},
   "source": [
    "A **stack** is an ordered collection of items where the addition (push) of new items and the removal (pop) of existing items always takes place at the same end. This end is commonly referred to as the “top.” The end opposite the top is known as the “base.”\n",
    "\n",
    "The base of the stack is significant since items stored in the stack that are closer to the base represent those that have been in the stack the longest. The most recently added item is the one that is in position to be removed first.\n",
    "\n",
    "This ordering principle is sometimes called LIFO, last-in first-out. It provides an ordering based on length of time in the collection. <span style=\"color:blue\">Newer items are near the top, while older items are near the base.</span>"
   ]
  },
  {
   "cell_type": "markdown",
   "metadata": {},
   "source": [
    "<div class=\"alert alert-warning\">Imagine a stack of books on a desk. The only book whose cover is visible is the one on top. To access others in the stack, we need to remove the ones that are sitting on top of them.</div>"
   ]
  },
  {
   "cell_type": "markdown",
   "metadata": {},
   "source": [
    "<div class=\"alert alert-warning\">\n",
    "    <b>Example 1:</b> Internet Web browsers store the addresses of recently visited sites\n",
    "in a stack. Each time a user visits a new site, that site’s address is “pushed” onto the\n",
    "stack of addresses. The browser then allows the user to “pop” back to previously\n",
    "visited sites using the “back” button\n",
    "</div>"
   ]
  },
  {
   "cell_type": "markdown",
   "metadata": {},
   "source": [
    "\n",
    "<div class=\"alert alert-warning\">\n",
    "    <b>Example 2:</b> Text editors usually provide an “undo” mechanism that cancels recent editing operations and reverts to former states of a document. This undo operation can be accomplished by keeping text changes in a stack.\n",
    "</div>"
   ]
  },
  {
   "cell_type": "markdown",
   "metadata": {},
   "source": [
    "## The Stack Abstract Data Type"
   ]
  },
  {
   "cell_type": "markdown",
   "metadata": {},
   "source": [
    "<div class=\"alert alert-success\">\n",
    "<li> Stack() creates an empty stack.\n",
    "<li> push(item) adds a new item to the top of the stack. It needs the item and returns nothing.\n",
    "<li> pop() removes and returns the top item from the stack. It throws an error if the stack is empty. The stack is modified.\n",
    "<li> top() returns the top element from the stack (without removing it). It throws an error if the stack is empty. The\n",
    "stack is not modified. \n",
    "<li> size() returns the number of items stored on the stack. Returns an integer.\n",
    "<li> isEmpty() returns true if the stack is empty, false otherwise.\n",
    "</div>"
   ]
  },
  {
   "cell_type": "code",
   "execution_count": 1,
   "metadata": {},
   "outputs": [],
   "source": [
    "class Stack:\n",
    "    \"\"\"LIFO Stack implementation using a Python list as storage.\n",
    "    The top of the stack stored at the end of the list.\"\"\"\n",
    "    \n",
    "    def __init__(self):\n",
    "        \"\"\"Create an empty stack\"\"\"\n",
    "        self.items = []\n",
    "    \n",
    "    def push(self, item):\n",
    "        \"\"\"Add the item to the top of the stack\"\"\"\n",
    "        self.items.append(item)\n",
    "        \n",
    "    def pop(self):\n",
    "        \"\"\"Remove and return the element from the top of the stack\"\"\"\n",
    "        if self.isEmpty():\n",
    "            return print('Error: Stack is empty')\n",
    "        return self.items.pop()\n",
    "    \n",
    "    def top(self):\n",
    "        \"\"\"Return the element from the top of the stack\"\"\"\n",
    "        if self.isEmpty():\n",
    "            return print('Error: Stack is empty')\n",
    "        #ret = self.items[len(self.items)-1]\n",
    "        #return ret #also works\n",
    "        return self.items[-1] \n",
    "    \n",
    "    def size(self):\n",
    "        \"\"\"Return the number of elements in the stack\"\"\"\n",
    "        return len(self.items)\n",
    "    \n",
    "    def isEmpty(self):\n",
    "        \"\"\"Return True if the stack is empty\"\"\"\n",
    "        return len(self.items)==0 #or return self.items == []\n",
    "        \n",
    "    def __str__(self):\n",
    "        #print the elements of the list\n",
    "        return str(self.items)"
   ]
  },
  {
   "cell_type": "code",
   "execution_count": 2,
   "metadata": {},
   "outputs": [
    {
     "name": "stdout",
     "output_type": "stream",
     "text": [
      "testing Stack\n",
      "type(s): <class '__main__.Stack'>\n",
      "Empty stack created: []\n",
      "isEmpty True\n",
      "Added two elements: ['W', 'O']\n",
      "Top element O ['W', 'O']\n",
      "isEmpty() False\n",
      "Content of stack: ['W', 'O', 'R', 'D']\n",
      "top element: D ['W', 'O', 'R', 'D']\n",
      "pop: D ['W', 'O', 'R']\n",
      "size: 3\n",
      "pop: R pop: O pop: W []\n",
      "Error: Stack is empty\n",
      "pop: None\n"
     ]
    }
   ],
   "source": [
    "print('testing Stack')\n",
    "s = Stack()\n",
    "print('type(s):', type(s))\n",
    "print('Empty stack created:',s)\n",
    "print('isEmpty', s.isEmpty())\n",
    "s.push('W')\n",
    "s.push('O')\n",
    "print('Added two elements:',s)\n",
    "print('Top element', s.top(), s)\n",
    "print('isEmpty()', s.isEmpty())\n",
    "s.push('R')\n",
    "s.push('D')\n",
    "print('Content of stack:', s)\n",
    "print('top element:', s.top(), s)\n",
    "print('pop:', s.pop(), s)\n",
    "print('size:', s.size())\n",
    "print('pop:', s.pop(), 'pop:', s.pop(), 'pop:', s.pop(), s)\n",
    "print('pop:', s.pop())"
   ]
  },
  {
   "cell_type": "code",
   "execution_count": 3,
   "metadata": {},
   "outputs": [
    {
     "name": "stdout",
     "output_type": "stream",
     "text": [
      "[]\n",
      "Error: Stack is empty\n",
      "Error: Stack is empty\n",
      "None\n",
      "Error: Stack is empty\n",
      "Error: Stack is empty\n",
      "None\n"
     ]
    }
   ],
   "source": [
    "s = Stack()\n",
    "print(s)\n",
    "s.pop()\n",
    "print(s.pop())\n",
    "s.top()\n",
    "print(s.top())"
   ]
  },
  {
   "cell_type": "markdown",
   "metadata": {},
   "source": [
    "### Second option: top at the first position of the list\n",
    "We could have chosen to implement the stack using a list where the top is at the beginning instead of at the end. In this case, the previous pop and append methods would no longer work and we would have to index position 0 (the first item in the list) explicitly using pop and insert. The implementation is shown below.\n"
   ]
  },
  {
   "cell_type": "code",
   "execution_count": 4,
   "metadata": {},
   "outputs": [],
   "source": [
    "class Stack1:\n",
    "    def __init__(self):\n",
    "        self.items = []\n",
    "    \n",
    "    def push(self, item):\n",
    "        self.items.insert(0,item)\n",
    "        \n",
    "    def pop(self):\n",
    "        if self.isEmpty():\n",
    "            return print('Error: Stack is empty')\n",
    "        return self.items.pop(0)\n",
    "    \n",
    "    def top(self):\n",
    "        if self.isEmpty():\n",
    "            return print('Error: Stack is empty')\n",
    "        return self.items[0]\n",
    "    \n",
    "    def size(self):\n",
    "        return len(self.items)\n",
    "    \n",
    "    def isEmpty(self):\n",
    "        return len(self.items)==0 #or return self.items == []\n",
    "    \n",
    "    def __str__(self):\n",
    "        return str(self.items)"
   ]
  },
  {
   "cell_type": "code",
   "execution_count": 5,
   "metadata": {},
   "outputs": [
    {
     "name": "stdout",
     "output_type": "stream",
     "text": [
      "testing Stack1\n",
      "type(s): <class '__main__.Stack1'>\n",
      "Empty stack created: []\n",
      "isEmpty True\n",
      "Added two elements: ['O', 'W']\n",
      "Top element O ['O', 'W']\n",
      "isEmpty() False\n",
      "Content of stack: ['D', 'R', 'O', 'W']\n",
      "top element: D ['D', 'R', 'O', 'W']\n",
      "pop: D ['R', 'O', 'W']\n",
      "size: 3\n",
      "pop: R pop: O pop: W []\n",
      "Error: Stack is empty\n",
      "pop: None\n"
     ]
    }
   ],
   "source": [
    "print('testing Stack1')\n",
    "s = Stack1()\n",
    "print('type(s):', type(s))\n",
    "print('Empty stack created:',s)\n",
    "print('isEmpty', s.isEmpty())\n",
    "s.push('W')\n",
    "s.push('O')\n",
    "print('Added two elements:',s)\n",
    "print('Top element', s.top(), s)\n",
    "print('isEmpty()', s.isEmpty())\n",
    "s.push('R')\n",
    "s.push('D')\n",
    "print('Content of stack:', s)\n",
    "print('top element:', s.top(), s)\n",
    "print('pop:', s.pop(), s)\n",
    "print('size:', s.size())\n",
    "print('pop:', s.pop(), 'pop:', s.pop(), 'pop:', s.pop(), s)\n",
    "print('pop:', s.pop())"
   ]
  },
  {
   "cell_type": "markdown",
   "metadata": {},
   "source": [
    "## What implementation is better? \n",
    "<div class=\"alert alert-block alert-danger\">\n",
    "Althought the above implementations are logically equivalent, the first one is better than the second one because they operations append and pop() operations are both O(1), while insert(0) and pop(0) have linear complexity (O(n) for a stack of size n). \n",
    "In other words, the second implementation (top element is stored at \n",
    "the fist position of the list) requires more time complexity \n",
    "than the first one (where the top element is stored at the end of the list). \n",
    "</div>"
   ]
  },
  {
   "cell_type": "markdown",
   "metadata": {},
   "source": [
    "## Using Stacks for solving problems"
   ]
  },
  {
   "cell_type": "markdown",
   "metadata": {},
   "source": [
    "Stacks are very useful for reversing data.\n",
    "<div class=\"alert alert-info\"> Reversing words with Stack </div>"
   ]
  },
  {
   "cell_type": "code",
   "execution_count": 6,
   "metadata": {},
   "outputs": [],
   "source": [
    "def reverse(word):\n",
    "    \"\"\"Returns the reverse word of the input word. It uses a stack\"\"\"\n",
    "    s = Stack()\n",
    "    #push each character onto the stack\n",
    "    for c in word:\n",
    "        s.push(c)\n",
    "        \n",
    "    newWord = ''\n",
    "    while s.isEmpty() != True:  #or while not s.isEmpty():\n",
    "        newWord = newWord + s.pop()\n",
    "    return newWord     "
   ]
  },
  {
   "cell_type": "code",
   "execution_count": 7,
   "metadata": {},
   "outputs": [
    {
     "name": "stdout",
     "output_type": "stream",
     "text": [
      "hola\n",
      "aloh\n"
     ]
    }
   ],
   "source": [
    "word = \"hola\"\n",
    "print(word)\n",
    "print(reverse(word)) "
   ]
  },
  {
   "cell_type": "code",
   "execution_count": 8,
   "metadata": {},
   "outputs": [
    {
     "name": "stdout",
     "output_type": "stream",
     "text": [
      "reversing horse = esroh\n",
      "reversing amor = roma\n",
      "reversing radar = radar\n"
     ]
    }
   ],
   "source": [
    "w='horse'\n",
    "print('reversing {} = {}'.format(w,reverse(w)))\n",
    "w='amor'\n",
    "print('reversing {} = {}'.format(w,reverse(w)))\n",
    "w='radar'\n",
    "print('reversing {} = {}'.format(w,reverse(w)))"
   ]
  },
  {
   "cell_type": "markdown",
   "metadata": {},
   "source": [
    "<div class=\"alert alert-info\"> Balanced parenthesis </div>"
   ]
  },
  {
   "cell_type": "markdown",
   "metadata": {},
   "source": [
    "Detecting when the parenthesis in an expression are correctly balanced or not is an important task to recognize many programming language structures (i.e. to evaluate arithmetic or logical expressions).\n",
    "\n",
    "\n",
    "In logical and arithmetic expressions, parentheses must appear in a balanced way. In other words:\n",
    "- 1) each opening symbol has a corresponding closing symbol and \n",
    "- 2) the pairs of parentheses are properly nested. \n",
    "\n",
    "The following table shows examples of balanced and non balanced expressions of parenthesis:\n",
    "\n",
    "| Balanced  | Non balanced |\n",
    "| --- | --- | \n",
    "| (()()()()) | ((((((())|\n",
    "|(((()))) | ())) |\n",
    "| (()((())())) | (()()(()|\n",
    "\n",
    "\n",
    "Please, write a Python program that reads a string of parenthesis and determines if its parenthesis are balanced. \n",
    "A stack is a good data structure to solve this problem because  closing symbols match opening symbols in the reverse order of their appearance. \n",
    "\n",
    "\n",
    "Below, we explain the steps to implement the algorithm. Firstly, you must create an empty stack, which be used to store the opening symbols. Then, you must read the expression from left to right. For each symbol:\n",
    "- If the symbol is an opening symbol, add it on the stack (with push operation).\n",
    "- If the symbol is a closing symbol:\n",
    "    - If the stack is empty, there is no any opening symbol for it, so return false (the expression is not balanced). \n",
    "    - Otherwise, remove the top of the stack (with pop) and continue. \n",
    "        \n",
    "When you have read all characters in the expression, there  are two possibilities:\n",
    "a) The stack is not empty, which means that the expressions contained some opening symbols without their corresponding closing symbols. Therefore, you must return false. \n",
    "b) The stack is empty. You must return true."
   ]
  },
  {
   "cell_type": "code",
   "execution_count": 9,
   "metadata": {},
   "outputs": [],
   "source": [
    "def balanced(exp):\n",
    "    \"\"\"Create an empty stack to store the opening symbols.\"\"\"\n",
    "    s = Stack()\n",
    "    for c in exp:\n",
    "        if c == '(':\n",
    "            s.push(c)\n",
    "        elif c == ')':\n",
    "            if s.isEmpty():\n",
    "                return False\n",
    "            else:\n",
    "                s.pop()\n",
    "    #if s.isEmpty() == True: #If the stack is empty, this means that the expression is balanced.\n",
    "    #   return True          #Otherwise, the expression is not balanced (there are still opening symbols in the stack)\n",
    "    return s.isEmpty() "
   ]
  },
  {
   "cell_type": "code",
   "execution_count": 10,
   "metadata": {},
   "outputs": [
    {
     "name": "stdout",
     "output_type": "stream",
     "text": [
      "True\n"
     ]
    }
   ],
   "source": [
    "print(balanced('(8*(9+4))'))"
   ]
  },
  {
   "cell_type": "code",
   "execution_count": 11,
   "metadata": {},
   "outputs": [
    {
     "name": "stdout",
     "output_type": "stream",
     "text": [
      "((((((()) False\n",
      "(()()()()) True\n",
      "(((()))) True\n",
      "())) False\n",
      "(()()(() False\n",
      "(()((())())) True\n",
      ") False\n"
     ]
    }
   ],
   "source": [
    "print('((((((())',balanced('((((((())'))\n",
    "print('(()()()())',balanced('(()()()())'))\n",
    "print('(((())))',balanced('(((())))'))\n",
    "print('()))',balanced('()))'))\n",
    "print('(()()(()',balanced('(()()(()')   )\n",
    "print('(()((())()))',balanced('(()((())()))')   )\n",
    "print(')',balanced(')'))"
   ]
  }
 ],
 "metadata": {
  "kernelspec": {
   "display_name": "Python 3",
   "language": "python",
   "name": "python3"
  },
  "language_info": {
   "codemirror_mode": {
    "name": "ipython",
    "version": 3
   },
   "file_extension": ".py",
   "mimetype": "text/x-python",
   "name": "python",
   "nbconvert_exporter": "python",
   "pygments_lexer": "ipython3",
   "version": "3.7.4"
  }
 },
 "nbformat": 4,
 "nbformat_minor": 2
}
