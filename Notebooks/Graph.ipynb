{
 "cells": [
  {
   "cell_type": "markdown",
   "metadata": {},
   "source": [
    "# Graphs\n",
    "<div class=\"alert alert-success\">\n",
    "    <b>\"A Graph is a way of representing relationships that exist between pairs of objects\"</b>\n",
    "</div>\n",
    "<div class=\"alert alert-info\">\n",
    "    A graph G is an ordered pair of a set V of vertices and a set E of edges G=(V,E)\n",
    "    <b>Path:</b> is a sequence of vertices where each adjacent pair is connected by an edge.\n",
    "</div>"
   ]
  }
 ],
 "metadata": {
  "kernelspec": {
   "display_name": "Python 3",
   "language": "python",
   "name": "python3"
  },
  "language_info": {
   "codemirror_mode": {
    "name": "ipython",
    "version": 3
   },
   "file_extension": ".py",
   "mimetype": "text/x-python",
   "name": "python",
   "nbconvert_exporter": "python",
   "pygments_lexer": "ipython3",
   "version": "3.7.4"
  }
 },
 "nbformat": 4,
 "nbformat_minor": 2
}
