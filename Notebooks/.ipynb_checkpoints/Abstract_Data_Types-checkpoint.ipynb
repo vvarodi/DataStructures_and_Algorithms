{
 "cells": [
  {
   "cell_type": "markdown",
   "metadata": {},
   "source": [
    "# Abstract Data Types\n",
    "\n",
    "## What are data structures?\n",
    "They are **ways to store and organize** data in our programs.\n",
    "\n",
    "Data Sructures:\n",
    "* Primitive data:\n",
    "      * integer\n",
    "      * boolean\n",
    "      * float\n",
    "      * string\n",
    "* Non-primitive data or user define types:\n",
    "      * Linear types:\n",
    "          * Arrays                     (Static Data Structure)\n",
    "          * Stacks                     (Dynamic Data Structure)\n",
    "          * Queues                     (Dynamic Data Structure)\n",
    "          * Linked Lists               (Dynamic Data Structure)\n",
    "          * Doubly Linked Lists        (Dynamic Data Structure)\n",
    "      * non Linear types:  \n",
    "          * Trees                      (Dynamic Data Structure)\n",
    "          * Graphs                     (Dynamic Data Structure) \n",
    "\n",
    "|Static Data Structure | Dynamic Data Sructure |\n",
    "|:---:|:---:|\n",
    "|Sizes are fixed once memory is allocated (Inefficient memory usage)|Expands and contracts as needed during execution (efficient memmory usage)|\n",
    "|provides more easier acces to elements|more difficult access|\n",
    "|Insertion and deletion are inefficient|Insertion and deletion are very efficient|\n",
    "|Easier to program as there is no need to check on data structure size at any point|Harder to program as the software needs to keep track of its size and data item location at all times|\n",
    "\n"
   ]
  },
  {
   "cell_type": "markdown",
   "metadata": {},
   "source": [
    "## Abstract Data Types (ADT)\n",
    "+ An ADT is a theoretical data type that its inner structure is hidden from the user. \n",
    "* It consists of set of values and operations to handle these values.\n",
    "* It is independent of its implementation. \n",
    "* Focus on 'what' to do instead of 'how' to do it.\n",
    "* Data abstraction can be used to protect the data from the unauthorized methods."
   ]
  },
  {
   "cell_type": "markdown",
   "metadata": {},
   "source": [
    "### Example: Complex Number ADT\n",
    "A complex number consists of two parts:\n",
    "* a real part, say a\n",
    "* an imaginary part, say b\n",
    "\n",
    "The value of a complex number is **a + ib** where i = $\\sqrt{-1}$\n",
    "\n",
    "Operations on a complex number:\n",
    "* Number(a,b): creates a new complex number instance\n",
    "* Negation of a complex number: a + ib is -a + i(-b)\n",
    "* Addition and subtraction: (a + ib) + (c + id) = (a + c) + (b + d)i\n",
    "* Multiplication: (a + ib) * (c + id) = (ac -bd) + (ad + bc)i\n",
    "* Absolute value or module: |a + ib| = $\\sqrt{a^2 + b^2}$"
   ]
  },
  {
   "cell_type": "code",
   "execution_count": 1,
   "metadata": {},
   "outputs": [],
   "source": [
    "class Complex:\n",
    "    \n",
    "    def __init__(self, a=0, b=0):\n",
    "        \"\"\"\" This is the constructor method. \n",
    "        By default, the values for the attribute are 0 \"\"\"\n",
    "        self.a = a  #real part\n",
    "        self.b = b  #imaginary part\n",
    "        \n",
    "    def __str__(self):\n",
    "        \"\"\" Returns a string representing the complex number \"\"\"\n",
    "        if self.a == 0 and self.b == 0:\n",
    "            return '0'\n",
    "        \n",
    "        if self.a == 0:\n",
    "            text = '{}i'.format(self.b)\n",
    "        elif self.b == 0:\n",
    "            text = '{}'.format(self.a)\n",
    "        elif self.b > 0:\n",
    "            text = '{}+{}i'.format(self.a, self.b)\n",
    "        elif self.b < 0:\n",
    "            text = '{}{}i'.format(self.a, self.b)\n",
    "        return text\n",
    "    \n",
    "    \"\"\"\n",
    "        operator.__add__(a, b) is equivalent to a + b,\n",
    "        operator.__sub__(a, b) is equivalent to a - b,\n",
    "        operator.__mul__(a, b) is equivalent to a * b,\n",
    "        operator.__abs__(a) is equivalent to abs(a),\n",
    "        operator.__neg__(a) is equivalent to -a\n",
    "        \n",
    "    \"\"\"\n",
    "    def __neg__(self):\n",
    "        \"\"\" Returns the negation of the complex number \"\"\"\n",
    "        newNeg = Complex(-self.a, -self.b)\n",
    "        return newNeg\n",
    "    \n",
    "    def __add__(self, other):\n",
    "        \"\"\" Returns a new complex number, which is the sum between two complex \"\"\"\n",
    "        return Complex(self.a + other.a, self.b + other.b)\n",
    "    \n",
    "    def __sub__(self, other):\n",
    "        return Complex(self.a - other.a, self.b - other.b)\n",
    "    \n",
    "    def __mul__(self, other):\n",
    "        mult = Complex(self.a*other.a-self.b*other.b,\n",
    "                       self.a*other.b+self.b*other.a)\n",
    "        return mult\n",
    "    \n",
    "    def __abs__(self):\n",
    "        \"\"\" Returns the module of the invoking complex number \"\"\"\n",
    "        return (self.a**2 + self.b**2)**0.5"
   ]
  },
  {
   "cell_type": "markdown",
   "metadata": {},
   "source": [
    "Now, we test the different methods."
   ]
  },
  {
   "cell_type": "code",
   "execution_count": 2,
   "metadata": {},
   "outputs": [
    {
     "name": "stdout",
     "output_type": "stream",
     "text": [
      "2-3i\n"
     ]
    }
   ],
   "source": [
    "a = Complex(2, -3)\n",
    "print(a)"
   ]
  },
  {
   "cell_type": "code",
   "execution_count": 3,
   "metadata": {},
   "outputs": [
    {
     "name": "stdout",
     "output_type": "stream",
     "text": [
      "-2+3i\n"
     ]
    }
   ],
   "source": [
    "print(-a)  #__neg__(a)"
   ]
  },
  {
   "cell_type": "code",
   "execution_count": 4,
   "metadata": {},
   "outputs": [
    {
     "name": "stdout",
     "output_type": "stream",
     "text": [
      "3-2i\n"
     ]
    }
   ],
   "source": [
    "b = Complex(1,1)\n",
    "print(a+b)  #(2-3i)+(1,1i) = (3-2i)"
   ]
  },
  {
   "cell_type": "code",
   "execution_count": 5,
   "metadata": {},
   "outputs": [
    {
     "name": "stdout",
     "output_type": "stream",
     "text": [
      "1-4i\n"
     ]
    }
   ],
   "source": [
    "print(a-b)  #(2-3i)-(1,1i) = (1-4i)"
   ]
  },
  {
   "cell_type": "code",
   "execution_count": 6,
   "metadata": {},
   "outputs": [
    {
     "name": "stdout",
     "output_type": "stream",
     "text": [
      "5-1i\n"
     ]
    }
   ],
   "source": [
    "print(a*b)   #__mult__(a,b)"
   ]
  },
  {
   "cell_type": "code",
   "execution_count": 7,
   "metadata": {},
   "outputs": [
    {
     "name": "stdout",
     "output_type": "stream",
     "text": [
      "3.605551275463989\n"
     ]
    }
   ],
   "source": [
    "absolute = abs(a)  #__abs__(a)\n",
    "print(str(absolute))"
   ]
  },
  {
   "cell_type": "code",
   "execution_count": 10,
   "metadata": {},
   "outputs": [
    {
     "name": "stdout",
     "output_type": "stream",
     "text": [
      "c = 3+5i\n",
      "3+5i = -3-5i\n",
      "\n",
      "other = 2+1i\n",
      "(3+5i)+(2+1i) = 5+6i\n",
      "(3+5i)-(2+1i) = 1+4i\n",
      "(3+5i)*(2+1i) = 1+13i\n",
      "\n",
      "abs(3+5i) = 5.830951894845301\n"
     ]
    }
   ],
   "source": [
    "c = Complex(3,5)\n",
    "print('c = {}'.format(str(c)))\n",
    "\n",
    "print('{} = {}'.format(str(c),str(-c)))\n",
    "print()\n",
    "\n",
    "other = Complex(2,1)\n",
    "print('other = {}'.format(str(other)))\n",
    "print('({})+({}) = {}'.format(str(c),str(other),str(c+other)))\n",
    "print('({})-({}) = {}'.format(str(c),str(other),str(c-other)))\n",
    "print('({})*({}) = {}'.format(str(c),str(other),str(c*other)))\n",
    "\n",
    "print()\n",
    "print('abs({}) = {}'.format(str(c),str(abs(c))))"
   ]
  },
  {
   "cell_type": "markdown",
   "metadata": {},
   "source": [
    "### Example: Date"
   ]
  },
  {
   "cell_type": "code",
   "execution_count": 1,
   "metadata": {},
   "outputs": [],
   "source": [
    "#This is an atribute of the class. That is, all objects share this attribute.\n",
    "MONTH = {1:'January',2:'February',3:'March', 4:'April',5:'May', 6:'June', \n",
    "         7:'July', 8:'August', 9:'September', 10:'October',11:'November',12:'December'}"
   ]
  },
  {
   "cell_type": "code",
   "execution_count": 21,
   "metadata": {},
   "outputs": [],
   "source": [
    "class Date:\n",
    "    def __init__(self, day, month, year):\n",
    "        self.day = day\n",
    "        self.month = month\n",
    "        self.year = year\n",
    "    \n",
    "    def day(self):\n",
    "        return self.day\n",
    "    \n",
    "    def month(self):\n",
    "        return self.month\n",
    "    \n",
    "    def year(self):\n",
    "        return self.year\n",
    "    \n",
    "    def monthName(self):\n",
    "        return MONTH[self.month]\n",
    "    \n",
    "    def __str__(self):\n",
    "        return str(self.day) + '-' + str(self.month) + '-' + str(self.year)\n",
    "    \n",
    "    def is_leap_year(self):\n",
    "        \"\"\"Determine whether a year is a leap year.\"\"\"\n",
    "        return self.year % 4 == 0 and (self.year % 100 != 0 or self.year % 400 == 0)\n",
    "    \n",
    "    def __eq__(self, other):\n",
    "        return self.day == other.day and self.month == other.month and self.year == other.year\n",
    "    \n",
    "    def __ne__(self, other):\n",
    "        return self.day != other.day or self.month != other.month or self.year != other.year\n",
    "    \n",
    "    def __lt__(self, other):\n",
    "        if self.year < other.year:\n",
    "            return True\n",
    "        elif self.year > other.year:\n",
    "            return False\n",
    "        \n",
    "        if self.month < other.month:\n",
    "            return True\n",
    "        elif self.month > other.month:\n",
    "            return False\n",
    "        \n",
    "        if self.day < other.day:\n",
    "            return True\n",
    "        else:\n",
    "            return False"
   ]
  },
  {
   "cell_type": "code",
   "execution_count": 22,
   "metadata": {},
   "outputs": [
    {
     "name": "stdout",
     "output_type": "stream",
     "text": [
      "Date: 31-1-2019 \n",
      "Its month name is January\n",
      "Is it a leap year? False\n",
      "\n",
      "Date: 3-10-2016 \n",
      "Its month name is October\n",
      "Is it a leap year? True\n",
      "\n",
      "31-1-2019 == 3-10-2016 ? False\n",
      "31-1-2019 == 31-1-2019 ? True\n",
      "31-1-2019 != 3-10-2016 ? True\n",
      "31-1-2019 < 3-10-2016 ? False\n",
      "3-10-2016 < 31-1-2019 ? True\n",
      "31-1-2019 < 31-1-2019 ? False\n"
     ]
    }
   ],
   "source": [
    "d1=Date(31,1,2019)\n",
    "print(\"Date: {} \".format(str(d1)))\n",
    "print(\"Its month name is {}\".format(d1.monthName()))\n",
    "print(\"Is it a leap year? {}\".format(d1.is_leap_year()))\n",
    "print()\n",
    "\n",
    "d2=Date(3,10,2016)\n",
    "print(\"Date: {} \".format(str(d2)))\n",
    "print(\"Its month name is {}\".format(d2.monthName()))\n",
    "print(\"Is it a leap year? {}\".format(d2.is_leap_year()))\n",
    "print()\n",
    "print('{} == {} ? {}'.format(d1,d2,d1==d2))\n",
    "print('{} == {} ? {}'.format(d1,d1,d1==d1))\n",
    "\n",
    "print('{} != {} ? {}'.format(d1,d2,d1!=d2))\n",
    "\n",
    "print('{} < {} ? {}'.format(d1,d2,d1<d2))\n",
    "print('{} < {} ? {}'.format(d2,d1,d2<d1))\n",
    "print('{} < {} ? {}'.format(d1,d1,d1<d1))\n"
   ]
  }
 ],
 "metadata": {
  "kernelspec": {
   "display_name": "Python 3",
   "language": "python",
   "name": "python3"
  },
  "language_info": {
   "codemirror_mode": {
    "name": "ipython",
    "version": 3
   },
   "file_extension": ".py",
   "mimetype": "text/x-python",
   "name": "python",
   "nbconvert_exporter": "python",
   "pygments_lexer": "ipython3",
   "version": "3.7.4"
  }
 },
 "nbformat": 4,
 "nbformat_minor": 2
}
