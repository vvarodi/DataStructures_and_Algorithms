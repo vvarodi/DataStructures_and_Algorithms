{
 "cells": [
  {
   "cell_type": "markdown",
   "metadata": {},
   "source": [
    "# Big-O Examples"
   ]
  },
  {
   "cell_type": "markdown",
   "metadata": {},
   "source": [
    "## O(1) Constant"
   ]
  },
  {
   "cell_type": "code",
   "execution_count": 1,
   "metadata": {},
   "outputs": [
    {
     "name": "stdout",
     "output_type": "stream",
     "text": [
      "2\n"
     ]
    }
   ],
   "source": [
    "def f_constant(values):\n",
    "    #print first item in a list of values\n",
    "    print(values[0])\n",
    "    \n",
    "f_constant([2,4,6])"
   ]
  },
  {
   "cell_type": "markdown",
   "metadata": {},
   "source": [
    "This function is constant because regardless of the list size, the function will only ever take a constant step size, in this case 1, printing the first value from a list. We can see, that an input of 100 values will print just 1 item, a list of 10000 values will print just 1 item, and a list of n values will print just 1 item."
   ]
  },
  {
   "cell_type": "markdown",
   "metadata": {},
   "source": [
    "## O(n) Linear"
   ]
  },
  {
   "cell_type": "code",
   "execution_count": 4,
   "metadata": {},
   "outputs": [
    {
     "name": "stdout",
     "output_type": "stream",
     "text": [
      "2 4 6 "
     ]
    }
   ],
   "source": [
    "def f_linear(lst):\n",
    "    #Takes a list and prints out all values\n",
    "    for c in lst:\n",
    "        print(c, end = ' ')\n",
    "\n",
    "f_linear([2,4,6])"
   ]
  },
  {
   "cell_type": "markdown",
   "metadata": {},
   "source": [
    "This function runs in O(n):linear time. This means that the number of operations taking place scales linearly with n. An input list of 100 values will print 100 items, a list of 10000 values will print 10000 items, and a list of n values will print n times."
   ]
  },
  {
   "cell_type": "markdown",
   "metadata": {},
   "source": [
    "## O($n^2$) Quadratic"
   ]
  },
  {
   "cell_type": "code",
   "execution_count": 8,
   "metadata": {},
   "outputs": [
    {
     "name": "stdout",
     "output_type": "stream",
     "text": [
      "0 0\n",
      "0 1\n",
      "0 2\n",
      "0 3\n",
      "1 0\n",
      "1 1\n",
      "1 2\n",
      "1 3\n",
      "2 0\n",
      "2 1\n",
      "2 2\n",
      "2 3\n",
      "3 0\n",
      "3 1\n",
      "3 2\n",
      "3 3\n"
     ]
    }
   ],
   "source": [
    "def f_quadratic(lst):\n",
    "    #prints pairs for every item in list\n",
    "    for item1 in lst:\n",
    "        for item2 in lst:\n",
    "            print(item1, item2)\n",
    "    \n",
    "f_quadratic([0,1,2,3])"
   ]
  },
  {
   "cell_type": "markdown",
   "metadata": {},
   "source": [
    "Now we have two loops, one nested inside another. This means that for a list of n items, we will have to perform n operations for every item in the list. In total, we will perform n times n assignments, or $n^2$. A list of 10 items will have $10^2$ (100) operations. You can see how dangerous this can get for very large inputs!"
   ]
  },
  {
   "cell_type": "markdown",
   "metadata": {},
   "source": [
    "## Calculating Scale of Big-O\n",
    "When it comes to Big-O notation we only care about the most significant terms. As the input grows larger only the fastest growing terms will matter. (remember limits) "
   ]
  },
  {
   "cell_type": "code",
   "execution_count": 9,
   "metadata": {},
   "outputs": [
    {
     "name": "stdout",
     "output_type": "stream",
     "text": [
      "1 2 3 4 "
     ]
    }
   ],
   "source": [
    "def print_once(lst):\n",
    "    for item in lst:\n",
    "        print(item, end = ' ')\n",
    "print_once([1,2,3,4])"
   ]
  },
  {
   "cell_type": "markdown",
   "metadata": {},
   "source": [
    "The print_once() function is O(n) since it will scale linearly with the input."
   ]
  },
  {
   "cell_type": "code",
   "execution_count": 12,
   "metadata": {},
   "outputs": [
    {
     "name": "stdout",
     "output_type": "stream",
     "text": [
      "1 2 3 4 \n",
      "1 2 3 4 \n",
      "1 2 3 4 "
     ]
    }
   ],
   "source": [
    "def print_3(lst):\n",
    "    for item in lst:\n",
    "        print(item, end = ' ')\n",
    "    print()\n",
    "    for item in lst:\n",
    "        print(item, end = ' ')\n",
    "    print()\n",
    "    for item in lst:\n",
    "        print(item, end = ' ')\n",
    "print_3([1,2,3,4])"
   ]
  },
  {
   "cell_type": "markdown",
   "metadata": {},
   "source": [
    "We can see that the first function will print O(n) items and the second one will print O(3n) items. However for n going infinity the constant can be dropped, since it will not have a large effect, so both functions are O(n)."
   ]
  },
  {
   "cell_type": "code",
   "execution_count": 22,
   "metadata": {},
   "outputs": [
    {
     "name": "stdout",
     "output_type": "stream",
     "text": [
      "1\n",
      "1\n",
      "2\n",
      "string\n",
      "string\n",
      "string\n",
      "string\n",
      "string\n"
     ]
    }
   ],
   "source": [
    "def different(lst):\n",
    "    print(lst[0]) # Prints the first item O(1)\n",
    "    \n",
    "    midpoint = int(len(lst)/2)\n",
    "    for item in lst[:midpoint]:  # Prints the first 1/2 of the list O(n/2)\n",
    "        print(item)\n",
    "        \n",
    "    for x in range(5):\n",
    "        print('string') # Prints a string 5 times O(5)\n",
    "        \n",
    "different([1,2,3,4])"
   ]
  },
  {
   "cell_type": "markdown",
   "metadata": {},
   "source": [
    "We can combine each operation to get the total Big-O of the function:\n",
    "\n",
    "$O(1 + n/2 + 5)$\n",
    "\n",
    "We can see that as n grows larger the 1 and 5 terms become insignifiant and the 1/2 term multiplied against n will not have much of an effect as n goes towards infinity. This means that function is simply O(n)."
   ]
  },
  {
   "cell_type": "markdown",
   "metadata": {},
   "source": [
    "## Worst Case vs Best Case\n",
    "Many times we are only concerned with the worst possible case of an algorithm. Worst case and best case scenrios may be completely different Big-O times. "
   ]
  },
  {
   "cell_type": "code",
   "execution_count": 23,
   "metadata": {},
   "outputs": [],
   "source": [
    "def found(lst, find):\n",
    "    for item in lst:\n",
    "        if item == find:\n",
    "            return True\n",
    "    return False"
   ]
  },
  {
   "cell_type": "code",
   "execution_count": 24,
   "metadata": {},
   "outputs": [
    {
     "data": {
      "text/plain": [
       "True"
      ]
     },
     "execution_count": 24,
     "metadata": {},
     "output_type": "execute_result"
    }
   ],
   "source": [
    "found([1,2,3,4,5], 1)"
   ]
  },
  {
   "cell_type": "code",
   "execution_count": 26,
   "metadata": {},
   "outputs": [
    {
     "data": {
      "text/plain": [
       "False"
      ]
     },
     "execution_count": 26,
     "metadata": {},
     "output_type": "execute_result"
    }
   ],
   "source": [
    "found([1,2,3,4,5], 6)"
   ]
  },
  {
   "cell_type": "markdown",
   "metadata": {},
   "source": [
    "In the first scenario, the best case was O(1), since the match was found at the first element. In the second case, where there is no match, every element must be checked, this results in a worst case time of O(n)."
   ]
  }
 ],
 "metadata": {
  "kernelspec": {
   "display_name": "Python 3",
   "language": "python",
   "name": "python3"
  },
  "language_info": {
   "codemirror_mode": {
    "name": "ipython",
    "version": 3
   },
   "file_extension": ".py",
   "mimetype": "text/x-python",
   "name": "python",
   "nbconvert_exporter": "python",
   "pygments_lexer": "ipython3",
   "version": "3.7.4"
  }
 },
 "nbformat": 4,
 "nbformat_minor": 2
}
