{
 "cells": [
  {
   "cell_type": "markdown",
   "metadata": {},
   "source": [
    "# SEARCHING"
   ]
  },
  {
   "cell_type": "markdown",
   "metadata": {},
   "source": [
    "<div class=\"alert alert-info\">\n",
    "    <b>Searching:</b> is the algorithm process of finding a particular item in a collection of items. A search typically answer <code>True</code> or <code>False</code> as to wheter the item is present. On ocasion it may be modified to return where the item is found. \n",
    "</div>"
   ]
  },
  {
   "cell_type": "markdown",
   "metadata": {},
   "source": [
    "# Sequential Search"
   ]
  },
  {
   "cell_type": "code",
   "execution_count": 2,
   "metadata": {},
   "outputs": [
    {
     "name": "stdout",
     "output_type": "stream",
     "text": [
      "False\n",
      "True\n"
     ]
    }
   ],
   "source": [
    "def sequentialSearch(lst, item):\n",
    "    i = 0\n",
    "    found = False\n",
    "    while i < len(lst) and not found: # not found\n",
    "        if lst[i] == item:\n",
    "            found = True\n",
    "        else:\n",
    "            i += 1\n",
    "    return found\n",
    "\n",
    "testlist = [1, 2, 32, 8, 17, 19, 42, 13, 0]\n",
    "print(sequentialSearch(testlist, 3))\n",
    "print(sequentialSearch(testlist, 13))"
   ]
  },
  {
   "cell_type": "markdown",
   "metadata": {},
   "source": [
    "If the item is not in the list, the only way to know it is to compare it against every item present. If there are n items, then the sequential search requires n comparisons to discover that the item is not there.\n",
    "\n",
    " In the case where the item is in the list, the analysis is not so straightforward. \n",
    " -  In the best case we will find the item in the first place we look, at the beginning of the list. We will need only one comparison. O(1)\n",
    " -  In the worst case, we will not discover the item until the very last comparison, the nth comparison. O(n)\n",
    " \n",
    "Average: n/2\n",
    "Complexity: O(n)\n",
    "\n",
    "|Case|Best Case|Worst Case|Average Case|\n",
    "|---|---|---|---|\n",
    "|item is present|1|n|n/2|\n",
    "|item is not present|n|n|n|"
   ]
  },
  {
   "cell_type": "code",
   "execution_count": 7,
   "metadata": {},
   "outputs": [
    {
     "name": "stdout",
     "output_type": "stream",
     "text": [
      "False\n",
      "True\n"
     ]
    }
   ],
   "source": [
    "# for ordered list\n",
    "def orderedSequentialSearch(lst, item):\n",
    "    i = 0\n",
    "    found = False\n",
    "    stop = False\n",
    "    while i < len(lst) and not found and not stop:\n",
    "        if lst[i] == item:\n",
    "            found = True\n",
    "        else:\n",
    "            if lst[i] > item:\n",
    "                stop = True\n",
    "            else:\n",
    "                i += 1\n",
    "    return found\n",
    "testlist = [0, 1, 2, 8, 13, 17, 19, 32, 42,]\n",
    "print(orderedSequentialSearch(testlist, 3))\n",
    "print(orderedSequentialSearch(testlist, 13))"
   ]
  },
  {
   "cell_type": "markdown",
   "metadata": {},
   "source": [
    "**Ordered list** (A sequential search is improved by ordering the list only in the case where we do not find the item.) \n",
    "\n",
    "Complexity: O(n)\n",
    "\n",
    "\n",
    "|Case|Best Case|Worst Case|Average Case|\n",
    "|---|---|---|---|\n",
    "|item is present|1|n|n/2|\n",
    "|item is not present|1|n|n/2|"
   ]
  },
  {
   "cell_type": "markdown",
   "metadata": {},
   "source": [
    "# Binary Search\n"
   ]
  }
 ],
 "metadata": {
  "kernelspec": {
   "display_name": "Python 3",
   "language": "python",
   "name": "python3"
  },
  "language_info": {
   "codemirror_mode": {
    "name": "ipython",
    "version": 3
   },
   "file_extension": ".py",
   "mimetype": "text/x-python",
   "name": "python",
   "nbconvert_exporter": "python",
   "pygments_lexer": "ipython3",
   "version": "3.7.4"
  }
 },
 "nbformat": 4,
 "nbformat_minor": 2
}
