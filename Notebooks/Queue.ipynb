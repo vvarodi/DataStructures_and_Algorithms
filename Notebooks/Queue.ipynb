{
 "cells": [
  {
   "cell_type": "markdown",
   "metadata": {},
   "source": [
    "# Queue"
   ]
  },
  {
   "cell_type": "markdown",
   "metadata": {},
   "source": [
    "A **queue** is an ordered collection of items where the addition of new items happens at one end, called the “tail”, and the removal of existing items occurs at the other end, commonly called the “front.” As an element enters the queue it starts at the tail and makes its way toward the front, waiting until that time when it is the next element to be removed.\n",
    "\n",
    "The most recently added item in the queue must wait at the end of the collection. The item that has been in the collection the longest is at the front. This ordering principle is sometimes called FIFO, first-in first-out.\n",
    "\n",
    "- We insert (enqueue) a new element at the end (tail) of the queue.\n",
    "- We remove (dequeue) the first element (front) of the queue."
   ]
  },
  {
   "cell_type": "markdown",
   "metadata": {},
   "source": [
    "<div class=\"alert alert-warning\">A queue would therefore be a logical choice for a data structure to handle calls to a\n",
    "customer service center, or a wait-list at a restaurant. FIFO queues are also used by many computing devices, such as a networked printer, or a Web server responding to requests.</div>"
   ]
  },
  {
   "cell_type": "markdown",
   "metadata": {},
   "source": [
    "## The Queue Abstract Data Type"
   ]
  },
  {
   "cell_type": "markdown",
   "metadata": {},
   "source": [
    "<div class=\"alert alert-success\">\n",
    "    <li> <b>Queue()</b> creates an empty queue.\n",
    "    <li><b>enqueue(item)</b> adds a new item to the tail of the queue. It needs the item and returns nothing.\n",
    "    <li><b>dequeue()</b> removes and returns the front item from the queue.The queue is modified.If the queue is empty, an error is thrown. \n",
    "    <li>  <b>front()</b> returns the first element of the queue. The queue is not modified. If the queue is empty, it throws an error.\n",
    "    <li> <b>size()</b> returns the number of items in the queue. Returns an integer. \n",
    "    <li> <b>isEmpty()</b> returns true if the queue is empty, false otherwise.\n",
    "</div>"
   ]
  },
  {
   "cell_type": "code",
   "execution_count": 1,
   "metadata": {},
   "outputs": [],
   "source": [
    "class Queue:\n",
    "    \"\"\"FIFO Queue implementation using a Python list as storage.\n",
    "    We add new elements at the tail of the list (enqueue)\n",
    "    and remove elements from the head of the list (dequeue).\"\"\"\n",
    "\n",
    "    def __init__(self):\n",
    "        \"\"\"Create an empty queue\"\"\"\n",
    "        self.items = []\n",
    "    \n",
    "    def enqueue(self, item):\n",
    "        \"\"\"Add the element e to the tail of the queue\"\"\"\n",
    "        self.items.append(item)\n",
    "        \n",
    "    def dequeue(self):\n",
    "        \"\"\"Remove and return the first element in the queue\"\"\"\n",
    "        if self.isEmpty():\n",
    "            return print('Error: Stack is empty')\n",
    "        return self.items.pop(0)\n",
    "    \n",
    "    def front(self):\n",
    "        \"\"\"Return the first element in the queue\"\"\"\n",
    "        if self.isEmpty():\n",
    "            return print('Error: Stack is empty')\n",
    "        return self.items[0] \n",
    "    \n",
    "    def size(self):\n",
    "        \"\"\"Return the number of elements in the queue\"\"\"\n",
    "        return len(self.items)\n",
    "    \n",
    "    def __len__(self):\n",
    "        return len(self.items)\n",
    "    \n",
    "    def isEmpty(self):\n",
    "        \"\"\"Return True if the stack is empty\"\"\"\n",
    "        return len(self.items)==0 #or return self.items == []\n",
    "        \n",
    "    def __str__(self):\n",
    "        #print the elements of the list\n",
    "        return str(self.items)"
   ]
  },
  {
   "cell_type": "code",
   "execution_count": 2,
   "metadata": {
    "scrolled": true
   },
   "outputs": [
    {
     "name": "stdout",
     "output_type": "stream",
     "text": [
      "testing Queue\n",
      "type(s): <class '__main__.Queue'>\n",
      "Empty queue created: []\n",
      "isEmpty True\n",
      "Added two elements: ['W', 'O']\n",
      "Dequeue element W ['O']\n",
      "isEmpty() False\n",
      "Content of stack: ['O', 'R', 'D']\n",
      "Front element: O ['O', 'R', 'D']\n",
      "dequeue: O ['R', 'D']\n",
      "size: 2\n",
      "Error: Stack is empty\n",
      "dequeue: R dequeue: D dequeue: None []\n",
      "Error: Stack is empty\n",
      "pop: None\n"
     ]
    }
   ],
   "source": [
    "print('testing Queue')\n",
    "s = Queue()\n",
    "print('type(s):', type(s))\n",
    "print('Empty queue created:',s)\n",
    "print('isEmpty', s.isEmpty())\n",
    "s.enqueue('W')\n",
    "s.enqueue('O')\n",
    "print('Added two elements:',s)\n",
    "print('Dequeue element', s.dequeue(), s)\n",
    "print('isEmpty()', s.isEmpty())\n",
    "s.enqueue('R')\n",
    "s.enqueue('D')\n",
    "print('Content of stack:', s)\n",
    "print('Front element:', s.front(), s)\n",
    "print('dequeue:', s.dequeue(), s)\n",
    "print('size:', s.size())\n",
    "print('dequeue:', s.dequeue(), 'dequeue:', s.dequeue(), 'dequeue:', s.dequeue(), s)\n",
    "print('pop:', s.dequeue())"
   ]
  },
  {
   "cell_type": "code",
   "execution_count": 3,
   "metadata": {},
   "outputs": [
    {
     "name": "stdout",
     "output_type": "stream",
     "text": [
      "isEmpty() True\n",
      "Content of queue [1, 2, 3]\n",
      "front (first) element 1\n",
      "isEmpty() False\n",
      "dequeue(): 1\n",
      "Content of queue [2, 3]\n",
      "front element: 2\n",
      "size: 2\n"
     ]
    }
   ],
   "source": [
    "q=Queue()\n",
    "print('isEmpty()',q.isEmpty())\n",
    "q.enqueue(1)\n",
    "q.enqueue(2)\n",
    "q.enqueue(3)\n",
    "print('Content of queue',str(q))\n",
    "print('front (first) element',q.front())\n",
    "print('isEmpty()',q.isEmpty())\n",
    "print('dequeue():',q.dequeue())\n",
    "print('Content of queue',str(q))\n",
    "print('front element:',q.front())\n",
    "print('size:',len(q))"
   ]
  },
  {
   "cell_type": "markdown",
   "metadata": {},
   "source": [
    "## What implementation is better? \n",
    "<div class=\"alert alert-block alert-danger\">\n",
    "However, the previous implementation is less efficient than the stack array-based implementation. \n",
    "    In particular, the method  <b>dequeue()</b>, which runs pop(0) has linear complexity. To remover the first element, every succeeding element  in the list must be moved one position to its left. Therefore, you need to copy n-1 elements. Therefore, the complexity is O(n).\n",
    "\n",
    "A possible idea to decrease the complexity of the dequeue() method is to avoid the use of the method <b>pop(0)</b>. Instead of using this method, you can use a variable, index_first, to store the index of the current front element in the queue. In this way, when we need to remove an element, we only have to increase this variable.\n",
    "\n",
    "</div>"
   ]
  },
  {
   "cell_type": "markdown",
   "metadata": {},
   "source": [
    "## Using Queues for solving problems"
   ]
  },
  {
   "cell_type": "markdown",
   "metadata": {},
   "source": [
    "Josephus problem\n",
    "<div class=\"alert alert-info\">In the Jewish revolt against Rome, Josephus and 39 of his mates were holding out against\n",
    "the Romans in a cave. With defeat imminent, they resolved that they would rather die than\n",
    "be slaves to the Romans. They decided to arrange themselves in a circle. One man was\n",
    "designated as number one, and they proceeded clockwise killing every seventh man (step).\n",
    "Josephus was among other things an accomplished mathematician; so he instantly figured\n",
    "out where he ought to sit in order to be the last to go. But when the time came, instead of\n",
    "killing himself he joined the Roman side.\n",
    "    \n",
    "    \n",
    "<li>Implement a method to find out what posistion Josephus should sit in order to not be\n",
    "killed. The solution should generalizate for any number of jewish soldiers and any step.\n",
    "The solution should use a queue of integers (each soldier is represented with a number\n",
    "from 1 to n).\n",
    "    \n",
    "In the following video, you can find a nice explanation of this problem.[https://www.youtube.com/watch?v=uCsD3ZGzMgE](https://www.youtube.com/watch?v=uCsD3ZGzMgE)</div>"
   ]
  },
  {
   "cell_type": "code",
   "execution_count": 4,
   "metadata": {},
   "outputs": [
    {
     "ename": "KeyboardInterrupt",
     "evalue": "",
     "output_type": "error",
     "traceback": [
      "\u001b[1;31m---------------------------------------------------------------------------\u001b[0m",
      "\u001b[1;31mKeyboardInterrupt\u001b[0m                         Traceback (most recent call last)",
      "\u001b[1;32m<ipython-input-4-cd86779f12f7>\u001b[0m in \u001b[0;36m<module>\u001b[1;34m\u001b[0m\n\u001b[0;32m     20\u001b[0m \u001b[1;33m\u001b[0m\u001b[0m\n\u001b[0;32m     21\u001b[0m \u001b[1;33m\u001b[0m\u001b[0m\n\u001b[1;32m---> 22\u001b[1;33m \u001b[0mjosephus\u001b[0m\u001b[1;33m(\u001b[0m\u001b[1;36m30\u001b[0m\u001b[1;33m,\u001b[0m\u001b[1;36m5\u001b[0m\u001b[1;33m)\u001b[0m\u001b[1;33m\u001b[0m\u001b[1;33m\u001b[0m\u001b[0m\n\u001b[0m",
      "\u001b[1;32m<ipython-input-4-cd86779f12f7>\u001b[0m in \u001b[0;36mjosephus\u001b[1;34m(num, k)\u001b[0m\n\u001b[0;32m      7\u001b[0m         \u001b[0mq\u001b[0m\u001b[1;33m.\u001b[0m\u001b[0menqueue\u001b[0m\u001b[1;33m(\u001b[0m\u001b[0mi\u001b[0m\u001b[1;33m)\u001b[0m\u001b[1;33m\u001b[0m\u001b[1;33m\u001b[0m\u001b[0m\n\u001b[0;32m      8\u001b[0m \u001b[1;33m\u001b[0m\u001b[0m\n\u001b[1;32m----> 9\u001b[1;33m     \u001b[1;32mwhile\u001b[0m \u001b[0mlen\u001b[0m\u001b[1;33m(\u001b[0m\u001b[0mq\u001b[0m\u001b[1;33m)\u001b[0m\u001b[1;33m>\u001b[0m\u001b[1;36m1\u001b[0m\u001b[1;33m:\u001b[0m\u001b[1;33m\u001b[0m\u001b[1;33m\u001b[0m\u001b[0m\n\u001b[0m\u001b[0;32m     10\u001b[0m         \u001b[0mcount\u001b[0m\u001b[1;33m=\u001b[0m\u001b[1;36m1\u001b[0m\u001b[1;33m\u001b[0m\u001b[1;33m\u001b[0m\u001b[0m\n\u001b[0;32m     11\u001b[0m         \u001b[1;31m#k-1 dequeue/enqueue operations\u001b[0m\u001b[1;33m\u001b[0m\u001b[1;33m\u001b[0m\u001b[1;33m\u001b[0m\u001b[0m\n",
      "\u001b[1;32m<ipython-input-1-b116a49359d6>\u001b[0m in \u001b[0;36m__len__\u001b[1;34m(self)\u001b[0m\n\u001b[0;32m     28\u001b[0m         \u001b[1;32mreturn\u001b[0m \u001b[0mlen\u001b[0m\u001b[1;33m(\u001b[0m\u001b[0mself\u001b[0m\u001b[1;33m.\u001b[0m\u001b[0mitems\u001b[0m\u001b[1;33m)\u001b[0m\u001b[1;33m\u001b[0m\u001b[1;33m\u001b[0m\u001b[0m\n\u001b[0;32m     29\u001b[0m \u001b[1;33m\u001b[0m\u001b[0m\n\u001b[1;32m---> 30\u001b[1;33m     \u001b[1;32mdef\u001b[0m \u001b[0m__len__\u001b[0m\u001b[1;33m(\u001b[0m\u001b[0mself\u001b[0m\u001b[1;33m)\u001b[0m\u001b[1;33m:\u001b[0m\u001b[1;33m\u001b[0m\u001b[1;33m\u001b[0m\u001b[0m\n\u001b[0m\u001b[0;32m     31\u001b[0m         \u001b[1;32mreturn\u001b[0m \u001b[0mlen\u001b[0m\u001b[1;33m(\u001b[0m\u001b[0mself\u001b[0m\u001b[1;33m.\u001b[0m\u001b[0mitems\u001b[0m\u001b[1;33m)\u001b[0m\u001b[1;33m\u001b[0m\u001b[1;33m\u001b[0m\u001b[0m\n\u001b[0;32m     32\u001b[0m \u001b[1;33m\u001b[0m\u001b[0m\n",
      "\u001b[1;31mKeyboardInterrupt\u001b[0m: "
     ]
    }
   ],
   "source": [
    "\"\"\"Now, we implement the function for the Josephus problem:\"\"\"\n",
    "\n",
    "def josephus(num, k):\n",
    "    q=Queue()\n",
    "    #saved soldiers into the queue.\n",
    "    for i in range(1,num+1):\n",
    "        q.enqueue(i)\n",
    "    \n",
    "    while len(q)>1:\n",
    "        count=1\n",
    "        #k-1 dequeue/enqueue operations\n",
    "        while count<k:\n",
    "            q.enqueue(q.dequeue())\n",
    "            count=count+1\n",
    "    #kill the kth soldier\n",
    "    print(str(q.dequeue()) + ' was killed')\n",
    "    \n",
    "  \n",
    "    print('Surviving position: ' + str(q.front()))\n",
    "\n",
    "  \n",
    "josephus(30,5)    "
   ]
  },
  {
   "cell_type": "code",
   "execution_count": null,
   "metadata": {},
   "outputs": [],
   "source": []
  }
 ],
 "metadata": {
  "kernelspec": {
   "display_name": "Python 3",
   "language": "python",
   "name": "python3"
  },
  "language_info": {
   "codemirror_mode": {
    "name": "ipython",
    "version": 3
   },
   "file_extension": ".py",
   "mimetype": "text/x-python",
   "name": "python",
   "nbconvert_exporter": "python",
   "pygments_lexer": "ipython3",
   "version": "3.7.4"
  }
 },
 "nbformat": 4,
 "nbformat_minor": 2
}
