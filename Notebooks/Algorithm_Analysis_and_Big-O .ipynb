{
 "cells": [
  {
   "cell_type": "markdown",
   "metadata": {},
   "source": [
    "# Algorithm Analysis and Big-O "
   ]
  },
  {
   "cell_type": "markdown",
   "metadata": {},
   "source": [
    "An algorithm is a set of steps (instructions) for solving a problem.\n",
    "<div class=\"alert alert-info\">\n",
    "PROGRAM = DATA STRUCTURE + ALGORITHM\n",
    "</div>"
   ]
  },
  {
   "cell_type": "markdown",
   "metadata": {},
   "source": [
    "> Study the efficiency of algorithms:\n",
    "    - time complexity\n",
    "    - space complexity\n",
    "    \n",
    "> To estimate the requiered time:\n",
    "    - Empirical Analysis of Algorithms\n",
    "    - Theoretical Analysis of Algorithms\n",
    "        - Running Time Function\n",
    "        - Big-O notation"
   ]
  },
  {
   "cell_type": "markdown",
   "metadata": {},
   "source": [
    "### Example Empirical Analysis of Algorithms\n",
    "Given a number *n*, develop a method to sum from 1 to n. "
   ]
  },
  {
   "cell_type": "code",
   "execution_count": 1,
   "metadata": {},
   "outputs": [],
   "source": [
    "def sumOfN(n):\n",
    "    total = 0\n",
    "    for i in range(1, n+1):\n",
    "        total += i\n",
    "    return total"
   ]
  },
  {
   "cell_type": "code",
   "execution_count": 2,
   "metadata": {},
   "outputs": [],
   "source": [
    "def sumOfN2(n):  #Gauss solution\n",
    "    return (n*(n+1))/2"
   ]
  },
  {
   "cell_type": "code",
   "execution_count": 3,
   "metadata": {},
   "outputs": [
    {
     "name": "stdout",
     "output_type": "stream",
     "text": [
      "3.26 µs ± 153 ns per loop (mean ± std. dev. of 7 runs, 100000 loops each)\n"
     ]
    }
   ],
   "source": [
    "# The %timeit is a magic function which compares the time of the functions.\n",
    "# %timeit repeats the loop iteration a certain number of times and take the best result.\n",
    "\n",
    "%timeit sumOfN(100)"
   ]
  },
  {
   "cell_type": "code",
   "execution_count": 4,
   "metadata": {},
   "outputs": [
    {
     "name": "stdout",
     "output_type": "stream",
     "text": [
      "110 ns ± 5.85 ns per loop (mean ± std. dev. of 7 runs, 10000000 loops each)\n"
     ]
    }
   ],
   "source": [
    "%timeit sumOfN2(100) # faster than sumOfN()"
   ]
  },
  {
   "cell_type": "markdown",
   "metadata": {},
   "source": [
    "However, \"time to run\" cannot be used as an objective measurement, because that will depend on the speed of the computer itself and hardware capabilities"
   ]
  },
  {
   "cell_type": "markdown",
   "metadata": {},
   "source": [
    "### Example Running Time Function T(n)\n",
    "It is the number of operations executed by and algorithm to process an input of size n.\n",
    "<div class=\"alert alert-warning\">\n",
    "Primitive operations take constant time (c). We can assume c=1 ns.\n",
    "  <table style=\"width:100%\">\n",
    "  <tr>\n",
    "    <th>Examples</th>\n",
    "    <th></th>\n",
    "    <th>c</th>\n",
    "  </tr>\n",
    "  <tr>\n",
    "    <td>Assigning a value to a variable</td>\n",
    "    <td>x = 2</td>\n",
    "    <td>1</td>\n",
    "  </tr>\n",
    "  <tr>\n",
    "    <td>Indexing into an array</td>\n",
    "    <td>vector[3]</td>\n",
    "    <td>1</td>\n",
    "  </tr>\n",
    "      <tr>\n",
    "    <td>Returning from a method</td>\n",
    "    <td>return x</td>\n",
    "    <td>1</td>\n",
    "  </tr>\n",
    "      <tr>\n",
    "    <td>Evaluating an arith. expression</td>\n",
    "    <td>x + 3</td>\n",
    "    <td>1</td>\n",
    "  </tr>\n",
    "      <tr>\n",
    "    <td>Evaluating a logical expression</td>\n",
    "    <td>i < size</td>\n",
    "    <td>1</td>\n",
    "  </tr>\n",
    "</table>\n",
    "</div>"
   ]
  },
  {
   "cell_type": "markdown",
   "metadata": {},
   "source": [
    "> Consecutive statements: Just add the running times of those consecutive statements. T(n) = T(S1) + T(S2) + ... T(Sn)\n",
    "<div class=\"alert alert-warning\">\n",
    "<code>Algorithm swap(a, b)     #operations\n",
    "    temp = a                    1\n",
    "    a = b                       1\n",
    "    b = temp                    1</code>\n",
    "</div>"
   ]
  },
  {
   "cell_type": "markdown",
   "metadata": {},
   "source": [
    "T(n) = 3 * c = 3, (we assume c = 1)\n",
    "\n",
    "This algorithm requieres 3 nanoseconds, for an input of size n"
   ]
  },
  {
   "cell_type": "markdown",
   "metadata": {},
   "source": [
    "> Loop statements: The running time of a loop is the running time of the statements inside of the loop times the number of iterations.\n",
    "<div class=\"alert alert-warning\">\n",
    "<code>                               #operations\n",
    "    for i=1 to n                         n\n",
    "        total = total + 1        (1 + 1)*n</code>\n",
    "</div>"
   ]
  },
  {
   "cell_type": "markdown",
   "metadata": {},
   "source": [
    "T(n) = (3n)*c = 3n, (we assume c = 1)\n",
    "\n",
    "The loop requieres 3n nanoseconds, for an input of size n"
   ]
  },
  {
   "cell_type": "markdown",
   "metadata": {},
   "source": [
    "> Nested loops: Time complexity of nested loops is equal to the number of times the innermost statement is executed.\n",
    "<div class=\"alert alert-warning\">\n",
    "<code>                                   #operations\n",
    "    for i=1 to n                             n      \n",
    "        for j=1 to n                         n  |   \n",
    "           print(i*j)                 (1 + 1)n  | *n</code>\n",
    "</div>"
   ]
  },
  {
   "cell_type": "markdown",
   "metadata": {},
   "source": [
    "T(n) = n + n*(3n) = $3n^2$ + n"
   ]
  },
  {
   "cell_type": "markdown",
   "metadata": {},
   "source": [
    "> if/else statements: as only one of the statements (S1, S2, ..., Sn) will be executed, we must consider the worst case (the most costly in time)\n",
    "<div class=\"alert alert-warning\">\n",
    "<code>                                   #operations\n",
    "    if opc=0:                              \n",
    "        x = 0                             1  | 1\n",
    "    else:                                       \n",
    "        x = 0                             1   |\n",
    "        for i=1  to n                     n   |\n",
    "             x = x + 1                   2*n  | (3n + 1)</code>\n",
    "</div>"
   ]
  },
  {
   "cell_type": "markdown",
   "metadata": {},
   "source": [
    "T(n) allows to compare algorithms without implementing them"
   ]
  },
  {
   "cell_type": "code",
   "execution_count": null,
   "metadata": {},
   "outputs": [],
   "source": [
    "#Pseudocode\n",
    "Algorithm sumN(n)\n",
    "    total = 0               # 1\n",
    "    for i=1 to n            # n\n",
    "        total = total + 1   # (1+1)*n\n",
    "    return total            # 1\n",
    "                            # 3n + 2"
   ]
  },
  {
   "cell_type": "code",
   "execution_count": null,
   "metadata": {},
   "outputs": [],
   "source": [
    "Algoritm sumNGauss(n)\n",
    "    return n*(n+1)/2        #4"
   ]
  },
  {
   "cell_type": "code",
   "execution_count": 40,
   "metadata": {},
   "outputs": [
    {
     "data": {
      "text/plain": [
       "Text(0.5, 0, 'n')"
      ]
     },
     "execution_count": 40,
     "metadata": {},
     "output_type": "execute_result"
    },
    {
     "data": {
      "image/png": "[encoded data removed]",
      "text/plain": [
       "<Figure size 576x432 with 1 Axes>"
      ]
     },
     "metadata": {
      "needs_background": "light"
     },
     "output_type": "display_data"
    }
   ],
   "source": [
    "import numpy as np\n",
    "import matplotlib.pyplot as plt\n",
    "%matplotlib inline\n",
    "plt.style.use('bmh')\n",
    "\n",
    "# Set up runtime comparisons\n",
    "n = np.linspace(1,10,1000)\n",
    "labels = ['TGauss(n) = 4','Tsum(n)=3n+2']\n",
    "tn = [np.ones(n.shape),n]\n",
    "\n",
    "# Plot setup\n",
    "plt.figure(figsize=(8,6))\n",
    "plt.ylim(0,10)\n",
    "\n",
    "for i in range(len(tn)):\n",
    "    plt.plot(n,tn[i],label = labels[i])\n",
    "\n",
    "plt.legend()\n",
    "plt.title('Time requiered as a function of the problem size n')\n",
    "plt.ylabel('Time(ns)')\n",
    "plt.xlabel('n')"
   ]
  },
  {
   "cell_type": "markdown",
   "metadata": {},
   "source": [
    "## Big O notation"
   ]
  },
  {
   "cell_type": "markdown",
   "metadata": {},
   "source": [
    "<div class=\"alert alert-info\">\n",
    "    Big-O notation gives an upper bound of the complexity in the <b>worst</b> case, helping to quantify performance as the input size becomes <b>arbitrarily large</b>.\n",
    "</div>"
   ]
  },
  {
   "cell_type": "code",
   "execution_count": 47,
   "metadata": {},
   "outputs": [
    {
     "data": {
      "text/plain": [
       "Text(0.5, 0, 'n')"
      ]
     },
     "execution_count": 47,
     "metadata": {},
     "output_type": "execute_result"
    },
    {
     "data": {
      "image/png": "[encoded data removed]",
      "text/plain": [
       "<Figure size 576x432 with 1 Axes>"
      ]
     },
     "metadata": {
      "needs_background": "light"
     },
     "output_type": "display_data"
    }
   ],
   "source": [
    "import numpy as np\n",
    "import matplotlib.pyplot as plt\n",
    "from math import log\n",
    "%matplotlib inline\n",
    "\n",
    "# Set up runtime comparisons\n",
    "n = np.linspace(1,10,1000)\n",
    "labels = ['Constant','Logarithmic','Linear','Log Linear','Quadratic','Cubic','Exponential']\n",
    "big_o = [np.ones(n.shape),np.log(n),n,n*np.log(n),n**2,n**3,2**n]\n",
    "\n",
    "# Plot setup\n",
    "plt.figure(figsize=(8,6))\n",
    "plt.ylim(0,50)\n",
    "\n",
    "for i in range(len(big_o)):\n",
    "    plt.plot(n,big_o[i],label = labels[i])\n",
    "\n",
    "plt.legend()\n",
    "plt.ylabel('Relative Runtime')\n",
    "plt.xlabel('n')"
   ]
  },
  {
   "cell_type": "markdown",
   "metadata": {},
   "source": [
    "n: the size of the input\n",
    "\n",
    "The running time can't get any worse than O($n^3$)\n",
    "\n",
    "Note how much of a difference a Big-O efficiency can make for the same n value against the projected runtime. Clearly we want to choose algorithms that stay away from any exponential, quadratic, or cubic behavior!"
   ]
  },
  {
   "cell_type": "markdown",
   "metadata": {},
   "source": [
    "### Big-O efficiencies tables of List  operations\n",
    "<table>\n",
    "        <tr>\n",
    "            <th>List Operations </th>\n",
    "            <th>Big-O Efficiency</th>\n",
    "        </tr>\n",
    "        <tr>\n",
    "            <td>index []</td>\n",
    "            <td>O(1)</td>\n",
    "        </tr>\n",
    "        <tr>\n",
    "            <td>index assignment</td>\n",
    "            <td>O(1)</td>\n",
    "        </tr>\n",
    "        <tr>\n",
    "            <td>append</td>\n",
    "            <td>O(1)</td>\n",
    "        </tr>\n",
    "        <tr>\n",
    "            <td>pop()</td>\n",
    "            <td>O(1)</td>\n",
    "        </tr>\n",
    "        <tr>\n",
    "            <td>pop(i)</td>\n",
    "            <td>O(n)</td>\n",
    "        </tr>\n",
    "        <tr >\n",
    "            <td>insert(i,item)</td>\n",
    "            <td>O(n)</td>\n",
    "        </tr>\n",
    "        <tr>\n",
    "            <td>del operator</td>\n",
    "            <td>O(n)</td>\n",
    "        </tr>\n",
    "        <tr>\n",
    "            <td>iteration</td>\n",
    "            <td>O(n)</td>\n",
    "        </tr>\n",
    "        <tr>\n",
    "            <td>contains (in)</td>\n",
    "            <td>O(n)</td>\n",
    "        </tr>\n",
    "        <tr>\n",
    "            <td>get slice [x:y]</td>\n",
    "            <td>O(k)</td>\n",
    "        </tr>\n",
    "        <tr>\n",
    "            <td>del slice</td>\n",
    "            <td>O(n)</td>\n",
    "        </tr>\n",
    "        <tr>\n",
    "            <td>set slice</td>\n",
    "            <td>O(n+k)</td>\n",
    "        </tr>\n",
    "        <tr>\n",
    "            <td>reverse</td>\n",
    "            <td>O(n)</td>\n",
    "        </tr>\n",
    "        <tr>\n",
    "            <td>concatenate</td>\n",
    "            <td>O(k)</td>\n",
    "        </tr>\n",
    "        <tr>\n",
    "            <td>sort</td>\n",
    "            <td>O(n log n)</td>\n",
    "        </tr>\n",
    "        <tr>\n",
    "            <td>multiply</td>\n",
    "            <td>O(nk)</td>\n",
    "        </tr>"
   ]
  },
  {
   "cell_type": "markdown",
   "metadata": {},
   "source": [
    "The two most common operations performed on a list are indexing and assigning to an index position. These operations are both designed to be run in constant time, O(1).\n",
    "\n",
    "Test different methods to construct a list that is [0,1,2...10000]. Compare various methods, such as appending to the end of a list, concatenating a list, or using tools such as casting and list comprehension.\n",
    "\n",
    "\n",
    "We can clearly see that the most effective method is the built-in range() function in Python!"
   ]
  },
  {
   "cell_type": "code",
   "execution_count": 50,
   "metadata": {},
   "outputs": [],
   "source": [
    "def method1():\n",
    "    l = []\n",
    "    for n in range(10000):\n",
    "        l = l + [n]\n",
    "\n",
    "def method2():\n",
    "    l = []\n",
    "    for n in range(10000):\n",
    "        l.append(n)\n",
    "\n",
    "def method3():\n",
    "    l = [n for n in range(10000)]  #list comprehension\n",
    "\n",
    "def method4():\n",
    "    l = range(10000) # Python 3: list(range(10000))"
   ]
  },
  {
   "cell_type": "code",
   "execution_count": 51,
   "metadata": {},
   "outputs": [
    {
     "name": "stdout",
     "output_type": "stream",
     "text": [
      "285 ms ± 2.97 ms per loop (mean ± std. dev. of 7 runs, 1 loop each)\n",
      "1.33 ms ± 11.4 µs per loop (mean ± std. dev. of 7 runs, 1000 loops each)\n",
      "671 µs ± 3.03 µs per loop (mean ± std. dev. of 7 runs, 1000 loops each)\n",
      "674 ns ± 12.3 ns per loop (mean ± std. dev. of 7 runs, 1000000 loops each)\n"
     ]
    }
   ],
   "source": [
    "%timeit method1()\n",
    "%timeit method2()\n",
    "%timeit method3()\n",
    "%timeit method4()"
   ]
  },
  {
   "cell_type": "markdown",
   "metadata": {},
   "source": [
    "### Example"
   ]
  },
  {
   "cell_type": "markdown",
   "metadata": {},
   "source": [
    "Calculate its T(n) and BigO functions.\n",
    "\n",
    "Discuss the worst and the best cases"
   ]
  },
  {
   "cell_type": "code",
   "execution_count": null,
   "metadata": {},
   "outputs": [],
   "source": [
    "#Pseudocode\n",
    "Algorithm findmax(data)\n",
    "    max = -999999      #1\n",
    "    for c in data:     #n\n",
    "        if c>max:      #1*n\n",
    "            max = c    #1*n\n",
    "    return max         #1"
   ]
  },
  {
   "cell_type": "markdown",
   "metadata": {},
   "source": [
    "T(n)=3n+2\n",
    "\n",
    "O(n)=1\n",
    "\n",
    "There are no worst and best cases, all the elements of data must be visited"
   ]
  },
  {
   "cell_type": "markdown",
   "metadata": {},
   "source": [
    "https://stackoverflow.com/questions/487258/what-is-a-plain-english-explanation-of-big-o-notation/487278#487278\n",
    "\n",
    "https://stackoverflow.com/questions/2307283/what-does-olog-n-mean-exactly"
   ]
  }
 ],
 "metadata": {
  "kernelspec": {
   "display_name": "Python 3",
   "language": "python",
   "name": "python3"
  },
  "language_info": {
   "codemirror_mode": {
    "name": "ipython",
    "version": 3
   },
   "file_extension": ".py",
   "mimetype": "text/x-python",
   "name": "python",
   "nbconvert_exporter": "python",
   "pygments_lexer": "ipython3",
   "version": "3.7.4"
  }
 },
 "nbformat": 4,
 "nbformat_minor": 2
}
